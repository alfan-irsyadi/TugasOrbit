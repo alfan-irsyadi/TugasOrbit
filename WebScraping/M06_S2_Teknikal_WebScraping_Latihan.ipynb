{
 "cells": [
  {
   "cell_type": "markdown",
   "id": "7dj1q007NE6z",
   "metadata": {
    "id": "7dj1q007NE6z"
   },
   "source": [
    "# M06_S2_Teknikal_WebScraping"
   ]
  },
  {
   "cell_type": "code",
   "execution_count": 97,
   "id": "e71e85da",
   "metadata": {
    "tags": [
     "hide-cell"
    ]
   },
   "outputs": [
    {
     "data": {
      "text/html": [
       "<style>\n",
       ".col1{\n",
       "    font-weight:bold;\n",
       "    width:20%;\n",
       "    display: inline-block;\n",
       "}\n",
       "p{\n",
       "    line-height: 2;\n",
       "    font-size:18px\n",
       "}\n",
       "</style>\n"
      ],
      "text/plain": [
       "<IPython.core.display.HTML object>"
      ]
     },
     "metadata": {},
     "output_type": "display_data"
    }
   ],
   "source": [
    "%%html\n",
    "<style>\n",
    ".col1{\n",
    "    font-weight:bold;\n",
    "    width:20%;\n",
    "    display: inline-block;\n",
    "}\n",
    "p{\n",
    "    line-height: 2;\n",
    "    font-size:18px\n",
    "}\n",
    "</style>"
   ]
  },
  {
   "cell_type": "markdown",
   "id": "5cc13175",
   "metadata": {},
   "source": [
    "<p>\n",
    "    <span class='col1'>Nama</span>: Muhammad Alfan Irsyadi Hutagalung <br>\n",
    "    <span class='col1'>Kelas</span>: Persevere <br>\n",
    "    <span class='col1'>ID</span>: 29 <br>\n",
    "    <span class='col1'>Asal Universitas </span>: Universitas Sumatera Utara <br>\n",
    "    <span class='col1'>Jurusan/Fakultas</span>: Matematika/FMIPA\n",
    "</p>"
   ]
  },
  {
   "cell_type": "markdown",
   "id": "yZOogfvTnRVC",
   "metadata": {
    "id": "yZOogfvTnRVC"
   },
   "source": [
    "# Latihan\n",
    "\n",
    "1. Lakukan langkah persiapan untuk scrap web https://books.toscrape.com/\n",
    "2. Scrap https://books.toscrape.com/ untuk mencari info harga buku berdasarkan input user, dengan judul buku yang anda suka!\n",
    "3. Tuliskan judul buku untuk rating >= 3 star"
   ]
  },
  {
   "cell_type": "code",
   "execution_count": 96,
   "id": "oeo0Y42DIdiP",
   "metadata": {
    "id": "oeo0Y42DIdiP",
    "tags": [
     "hide-input"
    ]
   },
   "outputs": [
    {
     "name": "stderr",
     "output_type": "stream",
     "text": [
      "Enabling notebook extension jupyter-js-widgets/extension...\n",
      "      - Validating: ok\n"
     ]
    }
   ],
   "source": [
    "## Gunakan Jupyter Notebook untuk menampilkan hasil yang memuaskan\n",
    "\n",
    "!jupyter nbextension enable --py widgetsnbextension\n",
    "import ipywidgets as widgets\n",
    "from ipywidgets import interact, interact_manual"
   ]
  },
  {
   "cell_type": "markdown",
   "id": "cf0fb5ea",
   "metadata": {},
   "source": [
    "# Jawaban"
   ]
  },
  {
   "cell_type": "markdown",
   "id": "HiwgBXCcIeAA",
   "metadata": {
    "id": "HiwgBXCcIeAA"
   },
   "source": [
    "## Nomor 1 : Lakukan langkah persiapan untuk scrap web https://books.toscrape.com/"
   ]
  },
  {
   "cell_type": "markdown",
   "id": "MDhdNazoIi9w",
   "metadata": {
    "id": "MDhdNazoIi9w"
   },
   "source": [
    "### Langkah 1: siapkan library yang dibutuhkan"
   ]
  },
  {
   "cell_type": "code",
   "execution_count": 23,
   "id": "EyBGmaDNIZ9t",
   "metadata": {
    "colab": {
     "base_uri": "https://localhost:8080/"
    },
    "id": "EyBGmaDNIZ9t",
    "outputId": "646fd5d1-82c1-4a20-86e0-f7e595bc72a8"
   },
   "outputs": [
    {
     "name": "stdout",
     "output_type": "stream",
     "text": [
      "Collecting builtwith\n",
      "  Downloading builtwith-1.3.4.tar.gz (34 kB)\n",
      "Requirement already satisfied: six in /usr/local/lib/python3.7/dist-packages (from builtwith) (1.15.0)\n",
      "Building wheels for collected packages: builtwith\n",
      "  Building wheel for builtwith (setup.py) ... \u001b[?25l\u001b[?25hdone\n",
      "  Created wheel for builtwith: filename=builtwith-1.3.4-py3-none-any.whl size=36097 sha256=d366a85adad886462f5cf34ffc373ecd7f2662f6fcf4fca03565c708a7ba5376\n",
      "  Stored in directory: /root/.cache/pip/wheels/72/37/d7/ee9677e57e69fec72898a783876aac646c041fa097e3a87631\n",
      "Successfully built builtwith\n",
      "Installing collected packages: builtwith\n",
      "Successfully installed builtwith-1.3.4\n",
      "Collecting python-whois\n",
      "  Downloading python-whois-0.7.3.tar.gz (91 kB)\n",
      "\u001b[K     |████████████████████████████████| 91 kB 6.0 MB/s \n",
      "\u001b[?25hRequirement already satisfied: future in /usr/local/lib/python3.7/dist-packages (from python-whois) (0.16.0)\n",
      "Building wheels for collected packages: python-whois\n",
      "  Building wheel for python-whois (setup.py) ... \u001b[?25l\u001b[?25hdone\n",
      "  Created wheel for python-whois: filename=python_whois-0.7.3-py3-none-any.whl size=87720 sha256=b54b9a136422fd89a440352d06170133591028015e8e6943917cd109f38de9bc\n",
      "  Stored in directory: /root/.cache/pip/wheels/11/05/f7/895ce5a73665f77c8274a7d55e34fb3e6b4abbb9a7637e215b\n",
      "Successfully built python-whois\n",
      "Installing collected packages: python-whois\n",
      "Successfully installed python-whois-0.7.3\n"
     ]
    }
   ],
   "source": [
    "# download dan instal modul yang dibutuhkan\n",
    "\n",
    "!pip install builtwith\n",
    "!pip install python-whois\n",
    "!pip install pandas\n",
    "!pip install numpy\n",
    "!pip install beautifulsoup4"
   ]
  },
  {
   "cell_type": "code",
   "execution_count": 21,
   "id": "6JV4NpzIIwwe",
   "metadata": {
    "id": "6JV4NpzIIwwe"
   },
   "outputs": [],
   "source": [
    "import re\n",
    "import urllib3\n",
    "import urllib.request\n",
    "import pandas as pd\n",
    "import numpy as np\n",
    "from bs4 import BeautifulSoup\n",
    "import builtwith\n",
    "import whois\n",
    "from IPython.display import clear_output\n",
    "from time import sleep"
   ]
  },
  {
   "cell_type": "markdown",
   "id": "3f338c79",
   "metadata": {},
   "source": [
    "### Langkah 2: Cek websize"
   ]
  },
  {
   "cell_type": "markdown",
   "id": "bc787cd3",
   "metadata": {
    "id": "inubp3DCI1Ew"
   },
   "source": [
    "![ss websize](./ss_websize.png)"
   ]
  },
  {
   "cell_type": "markdown",
   "id": "77a7a8b8",
   "metadata": {},
   "source": [
    "### Langkah 3: Cek teknologi website dibuat menggunakan library builtwith"
   ]
  },
  {
   "cell_type": "code",
   "execution_count": 48,
   "id": "3c87efed",
   "metadata": {},
   "outputs": [
    {
     "data": {
      "text/plain": [
       "{'web-servers': ['Nginx'],\n",
       " 'web-frameworks': ['Twitter Bootstrap'],\n",
       " 'javascript-frameworks': ['jQuery']}"
      ]
     },
     "execution_count": 48,
     "metadata": {},
     "output_type": "execute_result"
    }
   ],
   "source": [
    "builtwith.parse('https://books.toscrape.com/')"
   ]
  },
  {
   "cell_type": "markdown",
   "id": "a766dc6f",
   "metadata": {},
   "source": [
    "### Langkah 4: Cek pemilik website menggunakan protokol whois dengan library python-whois"
   ]
  },
  {
   "cell_type": "code",
   "execution_count": 49,
   "id": "d9227423",
   "metadata": {},
   "outputs": [
    {
     "name": "stdout",
     "output_type": "stream",
     "text": [
      "{\n",
      "  \"domain_name\": [\n",
      "    \"TOSCRAPE.COM\",\n",
      "    \"toscrape.com\"\n",
      "  ],\n",
      "  \"registrar\": \"Amazon Registrar, Inc.\",\n",
      "  \"whois_server\": \"whois.registrar.amazon.com\",\n",
      "  \"referral_url\": null,\n",
      "  \"updated_date\": [\n",
      "    \"2021-05-25 22:54:15\",\n",
      "    \"2021-05-25 22:54:16.257000\"\n",
      "  ],\n",
      "  \"creation_date\": \"2016-06-28 20:26:52\",\n",
      "  \"expiration_date\": \"2022-06-28 20:26:52\",\n",
      "  \"name_servers\": [\n",
      "    \"NS-1192.AWSDNS-21.ORG\",\n",
      "    \"NS-1782.AWSDNS-30.CO.UK\",\n",
      "    \"NS-437.AWSDNS-54.COM\",\n",
      "    \"NS-740.AWSDNS-28.NET\",\n",
      "    \"ns-1192.awsdns-21.org\",\n",
      "    \"ns-1782.awsdns-30.co.uk\",\n",
      "    \"ns-437.awsdns-54.com\",\n",
      "    \"ns-740.awsdns-28.net\"\n",
      "  ],\n",
      "  \"status\": [\n",
      "    \"clientTransferProhibited https://icann.org/epp#clientTransferProhibited\",\n",
      "    \"renewPeriod https://icann.org/epp#renewPeriod\"\n",
      "  ],\n",
      "  \"emails\": [\n",
      "    \"abuse@amazonaws.com\",\n",
      "    \"owner-1961310@toscrape.com.whoisprivacyservice.org\",\n",
      "    \"admin-1961310@toscrape.com.whoisprivacyservice.org\",\n",
      "    \"tech-1961310@toscrape.com.whoisprivacyservice.org\"\n",
      "  ],\n",
      "  \"dnssec\": \"unsigned\",\n",
      "  \"name\": \"On behalf of toscrape.com owner\",\n",
      "  \"org\": \"Whois Privacy Service\",\n",
      "  \"address\": \"P.O. Box 81226\",\n",
      "  \"city\": \"Seattle\",\n",
      "  \"state\": \"WA\",\n",
      "  \"zipcode\": \"98108-1226\",\n",
      "  \"country\": \"US\"\n",
      "}\n"
     ]
    }
   ],
   "source": [
    "print(whois.whois('https://books.toscrape.com'))"
   ]
  },
  {
   "cell_type": "markdown",
   "id": "5f5abc68",
   "metadata": {},
   "source": [
    "### Langkah 5: Inspect element"
   ]
  },
  {
   "cell_type": "markdown",
   "id": "96e9a33c",
   "metadata": {},
   "source": [
    "![inspect element](./ss_inspect_element.png)"
   ]
  },
  {
   "cell_type": "markdown",
   "id": "uiLPYpr6Iadu",
   "metadata": {
    "id": "uiLPYpr6Iadu"
   },
   "source": [
    "## Nomor 2: Scrap https://books.toscrape.com/ untuk mencari info harga buku berdasarkan input user, dengan judul buku yang anda suka!"
   ]
  },
  {
   "cell_type": "code",
   "execution_count": 105,
   "id": "i77DKZ8Y5Bf_",
   "metadata": {
    "colab": {
     "base_uri": "https://localhost:8080/"
    },
    "id": "i77DKZ8Y5Bf_",
    "outputId": "d3c6dfd0-c7f4-4826-8778-0fd2744cbfc9"
   },
   "outputs": [
    {
     "name": "stdout",
     "output_type": "stream",
     "text": [
      "Selesai :D\n",
      "Page 50/50:  ⚫⚫⚫⚫⚫⚫⚫⚫⚫⚫ 100% \n",
      "Wall time: 1min 19s\n"
     ]
    }
   ],
   "source": [
    "%%time\n",
    "urllib3.disable_warnings() #disable annoying warnings\n",
    "\n",
    "judul = []\n",
    "harga = []\n",
    "rating = []\n",
    "# <p class=\"star-rating Two\">\n",
    "def to_number(kata):\n",
    "    if kata == 'One' : return 1\n",
    "    elif kata =='Two': return 2\n",
    "    elif kata =='Three': return 3\n",
    "    elif kata =='Four': return 4\n",
    "    else: return 5\n",
    "\n",
    "print('Sedang memproses....')\n",
    "for page in range(1,51):\n",
    "    response = urllib.request.urlopen(f'https://books.toscrape.com/catalogue/page-%d.html'%page)\n",
    "    html = response.read()\n",
    "    soup = BeautifulSoup(html, 'html.parser')\n",
    "    for i in soup.find_all(\"article\", class_=\"product_pod\"):\n",
    "        for j in i.find(\"h3\"):\n",
    "            judul.append(j.get('title'))\n",
    "    \n",
    "    text = html.decode()\n",
    "    rate = re.findall('<p class=\"star-rating (.*?)\">',text)\n",
    "    price = re.findall('<p class=\"price_color\">(.*?)</p>',text)\n",
    "    rating.append(rate)\n",
    "    harga.append(price)\n",
    "    clear_output(wait=True)\n",
    "    if(page != 50):\n",
    "        string = 'Sedang memproses'+'.'*(page%4)\n",
    "    else:\n",
    "        string = 'Selesai :D'\n",
    "    print(string)\n",
    "    print('Page %2d/50: '%page, '⚫'*int(np.floor(page/5))+'⚪'*int(np.floor(10- page/5))+' '+str(page*2)+'%',end='')   \n",
    "    sleep(0.01)  \n",
    "     \n",
    "print(' ')\n",
    "harga = np.array(harga).flatten()\n",
    "rating = np.array(rating).flatten()\n",
    "\n",
    "df = pd.DataFrame({'Judul':judul, 'Harga':harga, 'Rating':rating})\n",
    "df.Rating = df.Rating.apply(lambda x: int(to_number(x)))\n",
    "df.Judul = df.Judul.apply(lambda x: x.lower())\n"
   ]
  },
  {
   "cell_type": "code",
   "execution_count": 45,
   "id": "0eda3994",
   "metadata": {},
   "outputs": [
    {
     "data": {
      "application/vnd.jupyter.widget-view+json": {
       "model_id": "b2a2075b745e46f6afc7aa769cfc7a44",
       "version_major": 2,
       "version_minor": 0
      },
      "text/plain": [
       "interactive(children=(Text(value='frank', description='Judul'), Output()), _dom_classes=('widget-interact',))"
      ]
     },
     "metadata": {},
     "output_type": "display_data"
    }
   ],
   "source": [
    "@interact\n",
    "def show_title_contain(Judul='frank'):    \n",
    "    return df[df.Judul.str.contains(Judul.lower())]\n"
   ]
  },
  {
   "cell_type": "markdown",
   "id": "ffcea830",
   "metadata": {},
   "source": [
    "## Nomor 3: Tuliskan judul buku untuk rating >= 3 star"
   ]
  },
  {
   "cell_type": "code",
   "execution_count": 51,
   "id": "eab23797",
   "metadata": {},
   "outputs": [
    {
     "data": {
      "application/vnd.jupyter.widget-view+json": {
       "model_id": "340a54b0f3d04bf1873a1f56083bc86e",
       "version_major": 2,
       "version_minor": 0
      },
      "text/plain": [
       "interactive(children=(IntSlider(value=3, description='rate', max=5, min=1), Output()), _dom_classes=('widget-i…"
      ]
     },
     "metadata": {},
     "output_type": "display_data"
    }
   ],
   "source": [
    "@interact\n",
    "def show_rating_more_than(rate=(1,5,1)):    \n",
    "    return df[df.Rating >= rate]"
   ]
  },
  {
   "cell_type": "markdown",
   "id": "jrs6iAdBWoTM",
   "metadata": {
    "id": "jrs6iAdBWoTM"
   },
   "source": [
    "# Thank You!!"
   ]
  }
 ],
 "metadata": {
  "colab": {
   "collapsed_sections": [],
   "name": "M06_S2_Teknikal_WebScraping_Latihan.ipynb",
   "provenance": []
  },
  "kernelspec": {
   "display_name": "Python 3",
   "language": "python",
   "name": "python3"
  },
  "language_info": {
   "codemirror_mode": {
    "name": "ipython",
    "version": 3
   },
   "file_extension": ".py",
   "mimetype": "text/x-python",
   "name": "python",
   "nbconvert_exporter": "python",
   "pygments_lexer": "ipython3",
   "version": "3.8.8"
  }
 },
 "nbformat": 4,
 "nbformat_minor": 5
}
