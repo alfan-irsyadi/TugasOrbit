{
 "cells": [
  {
   "cell_type": "markdown",
   "id": "7dj1q007NE6z",
   "metadata": {
    "id": "7dj1q007NE6z"
   },
   "source": [
    "# M06_S2_Teknikal_WebScraping"
   ]
  },
  {
   "cell_type": "code",
   "execution_count": 142,
   "id": "e71e85da",
   "metadata": {
    "tags": [
     "hide-cell"
    ]
   },
   "outputs": [
    {
     "data": {
      "text/html": [
       "<style>\n",
       ".col1{\n",
       "    font-weight:bold;\n",
       "    width:20%;\n",
       "    display: inline-block;\n",
       "}\n",
       ".img{\n",
       "    margin:20px;\n",
       "    width:64px;\n",
       "    display: inline-block;\n",
       "}\n",
       ".p{\n",
       "    line-height: 2;\n",
       "    font-size:18px\n",
       "}\n",
       ".hem{\n",
       "    display:inline;\n",
       "}\n",
       ".bind{   \n",
       "    display:inline-block;\n",
       "}\n",
       ".bind1{\n",
       "    font-size:18px;    \n",
       "}\n",
       "</style>\n"
      ],
      "text/plain": [
       "<IPython.core.display.HTML object>"
      ]
     },
     "metadata": {},
     "output_type": "display_data"
    }
   ],
   "source": [
    "%%html\n",
    "<style>\n",
    ".col1{\n",
    "    font-weight:bold;\n",
    "    width:20%;\n",
    "    display: inline-block;\n",
    "}\n",
    ".img{\n",
    "    margin:20px;\n",
    "    width:64px;\n",
    "    display: inline-block;\n",
    "}\n",
    ".p{\n",
    "    line-height: 2;\n",
    "    font-size:18px\n",
    "}\n",
    ".hem{\n",
    "    display:inline;\n",
    "}\n",
    ".bind{   \n",
    "    display:inline-block;\n",
    "}\n",
    ".bind1{\n",
    "    font-size:18px;    \n",
    "}\n",
    "</style>"
   ]
  },
  {
   "cell_type": "markdown",
   "id": "5cc13175",
   "metadata": {},
   "source": [
    "<p class='p'>\n",
    "    <span class='col1'>Nama</span>: Muhammad Alfan Irsyadi Hutagalung <br>\n",
    "    <span class='col1'>Kelas</span>: Persevere <br>\n",
    "    <span class='col1'>ID</span>: 29 <br>\n",
    "    <span class='col1'>Asal Universitas </span>: Universitas Sumatera Utara <br>\n",
    "    <span class='col1'>Jurusan/Fakultas</span>: Matematika/FMIPA\n",
    "</p>\n",
    "\n",
    "\n",
    "## Let's Connect :\n",
    "<div class='hem'>\n",
    "\t<a href=\"https://github.com/alfan-irsyadi\" class='img'><img src=\"https://img.icons8.com/stickers/344/github.png\" alt=\"GitHub\"/></a>\n",
    "\t<a href=\"https://www.linkedin.com/in/muhammad-alfan-irsyadi-h-43530113a/\" class='img'><img src=\"https://img.icons8.com/stickers/344/linkedin.png\" alt=\"LinkedIn\"/></a>\n",
    "\t<a href=\"https://www.facebook.com/alfan.irsyadi.3/\" class='img'><img src=\"https://img.icons8.com/stickers/344/facebook.png\"  alt=\"Facebook\"/></a>\n",
    "\t<a href=\"https://www.instagram.com/alfanirsyadi_/\" class='img'><img src=\"https://img.icons8.com/stickers/344/instagram-new--v2.png\" alt=\"Instagram\"/></a>\n",
    "</div>\n",
    "\n",
    "<div class='bind1'>You can open notebook in this repo with binder <a class='bind' href = 'https://mybinder.org/v2/gh/alfan-irsyadi/TugasOrbit/main'><img src='https://mybinder.org/badge_logo.svg'></a></div>"
   ]
  },
  {
   "cell_type": "markdown",
   "id": "yZOogfvTnRVC",
   "metadata": {
    "id": "yZOogfvTnRVC"
   },
   "source": [
    "# Latihan\n",
    "\n",
    "1. Lakukan langkah persiapan untuk scrap web https://books.toscrape.com/\n",
    "2. Scrap https://books.toscrape.com/ untuk mencari info harga buku berdasarkan input user, dengan judul buku yang anda suka!\n",
    "3. Tuliskan judul buku untuk rating >= 3 star"
   ]
  },
  {
   "cell_type": "code",
   "execution_count": 108,
   "id": "oeo0Y42DIdiP",
   "metadata": {
    "id": "oeo0Y42DIdiP",
    "tags": [
     "hide-input"
    ]
   },
   "outputs": [
    {
     "name": "stderr",
     "output_type": "stream",
     "text": [
      "Enabling notebook extension jupyter-js-widgets/extension...\n",
      "      - Validating: ok\n"
     ]
    }
   ],
   "source": [
    "## Gunakan Jupyter Notebook untuk menampilkan hasil yang memuaskan\n",
    "\n",
    "!jupyter nbextension enable --py widgetsnbextension\n",
    "import ipywidgets as widgets\n",
    "from ipywidgets import interact, interact_manual"
   ]
  },
  {
   "cell_type": "markdown",
   "id": "cf0fb5ea",
   "metadata": {},
   "source": [
    "# Jawaban"
   ]
  },
  {
   "cell_type": "markdown",
   "id": "HiwgBXCcIeAA",
   "metadata": {
    "id": "HiwgBXCcIeAA"
   },
   "source": [
    "## Nomor 1 : Lakukan langkah persiapan untuk scrap web https://books.toscrape.com/"
   ]
  },
  {
   "cell_type": "markdown",
   "id": "MDhdNazoIi9w",
   "metadata": {
    "id": "MDhdNazoIi9w"
   },
   "source": [
    "### Langkah 1: siapkan library yang dibutuhkan"
   ]
  },
  {
   "cell_type": "code",
   "execution_count": 109,
   "id": "EyBGmaDNIZ9t",
   "metadata": {
    "colab": {
     "base_uri": "https://localhost:8080/"
    },
    "id": "EyBGmaDNIZ9t",
    "outputId": "646fd5d1-82c1-4a20-86e0-f7e595bc72a8"
   },
   "outputs": [
    {
     "name": "stdout",
     "output_type": "stream",
     "text": [
      "Requirement already satisfied: builtwith in d:\\users\\lenovo\\anaconda3\\lib\\site-packages (1.3.4)\n",
      "Requirement already satisfied: six in d:\\users\\lenovo\\anaconda3\\lib\\site-packages (from builtwith) (1.15.0)\n",
      "Requirement already satisfied: python-whois in d:\\users\\lenovo\\anaconda3\\lib\\site-packages (0.7.3)\n",
      "Requirement already satisfied: future in d:\\users\\lenovo\\anaconda3\\lib\\site-packages (from python-whois) (0.18.2)\n",
      "Requirement already satisfied: pandas in d:\\users\\lenovo\\anaconda3\\lib\\site-packages (1.2.4)\n",
      "Requirement already satisfied: pytz>=2017.3 in d:\\users\\lenovo\\anaconda3\\lib\\site-packages (from pandas) (2021.1)\n",
      "Requirement already satisfied: python-dateutil>=2.7.3 in d:\\users\\lenovo\\anaconda3\\lib\\site-packages (from pandas) (2.8.1)\n",
      "Requirement already satisfied: numpy>=1.16.5 in c:\\users\\lenovo\\appdata\\roaming\\python\\python38\\site-packages (from pandas) (1.22.2)\n",
      "Requirement already satisfied: six>=1.5 in d:\\users\\lenovo\\anaconda3\\lib\\site-packages (from python-dateutil>=2.7.3->pandas) (1.15.0)\n",
      "Requirement already satisfied: numpy in c:\\users\\lenovo\\appdata\\roaming\\python\\python38\\site-packages (1.22.2)\n",
      "Requirement already satisfied: beautifulsoup4 in d:\\users\\lenovo\\anaconda3\\lib\\site-packages (4.9.3)\n",
      "Requirement already satisfied: soupsieve>1.2 in d:\\users\\lenovo\\anaconda3\\lib\\site-packages (from beautifulsoup4) (2.2.1)\n"
     ]
    }
   ],
   "source": [
    "# download dan instal modul yang dibutuhkan\n",
    "\n",
    "!pip install builtwith\n",
    "!pip install python-whois\n",
    "!pip install pandas\n",
    "!pip install numpy\n",
    "!pip install beautifulsoup4"
   ]
  },
  {
   "cell_type": "code",
   "execution_count": 110,
   "id": "6JV4NpzIIwwe",
   "metadata": {
    "id": "6JV4NpzIIwwe"
   },
   "outputs": [],
   "source": [
    "import re\n",
    "import urllib3\n",
    "import urllib.request\n",
    "import pandas as pd\n",
    "import numpy as np\n",
    "from bs4 import BeautifulSoup\n",
    "import builtwith\n",
    "import whois\n",
    "from IPython.display import clear_output\n",
    "from time import sleep"
   ]
  },
  {
   "cell_type": "markdown",
   "id": "3f338c79",
   "metadata": {},
   "source": [
    "### Langkah 2: Cek websize"
   ]
  },
  {
   "cell_type": "markdown",
   "id": "bc787cd3",
   "metadata": {
    "id": "inubp3DCI1Ew"
   },
   "source": [
    "![ss websize](https://github.com/alfan-irsyadi/TugasOrbit/blob/main/WebScraping/ss_websize.png?raw=true)"
   ]
  },
  {
   "cell_type": "markdown",
   "id": "77a7a8b8",
   "metadata": {},
   "source": [
    "### Langkah 3: Cek teknologi website dibuat menggunakan library builtwith"
   ]
  },
  {
   "cell_type": "code",
   "execution_count": 111,
   "id": "3c87efed",
   "metadata": {},
   "outputs": [
    {
     "data": {
      "text/plain": [
       "{'web-servers': ['Nginx'],\n",
       " 'web-frameworks': ['Twitter Bootstrap'],\n",
       " 'javascript-frameworks': ['jQuery']}"
      ]
     },
     "execution_count": 111,
     "metadata": {},
     "output_type": "execute_result"
    }
   ],
   "source": [
    "builtwith.parse('https://books.toscrape.com/')"
   ]
  },
  {
   "cell_type": "markdown",
   "id": "a766dc6f",
   "metadata": {},
   "source": [
    "### Langkah 4: Cek pemilik website menggunakan protokol whois dengan library python-whois"
   ]
  },
  {
   "cell_type": "code",
   "execution_count": 112,
   "id": "d9227423",
   "metadata": {},
   "outputs": [
    {
     "name": "stdout",
     "output_type": "stream",
     "text": [
      "{\n",
      "  \"domain_name\": [\n",
      "    \"TOSCRAPE.COM\",\n",
      "    \"toscrape.com\"\n",
      "  ],\n",
      "  \"registrar\": \"Amazon Registrar, Inc.\",\n",
      "  \"whois_server\": \"whois.registrar.amazon.com\",\n",
      "  \"referral_url\": null,\n",
      "  \"updated_date\": [\n",
      "    \"2021-05-25 22:54:15\",\n",
      "    \"2021-05-25 22:54:16.257000\"\n",
      "  ],\n",
      "  \"creation_date\": \"2016-06-28 20:26:52\",\n",
      "  \"expiration_date\": \"2022-06-28 20:26:52\",\n",
      "  \"name_servers\": [\n",
      "    \"NS-1192.AWSDNS-21.ORG\",\n",
      "    \"NS-1782.AWSDNS-30.CO.UK\",\n",
      "    \"NS-437.AWSDNS-54.COM\",\n",
      "    \"NS-740.AWSDNS-28.NET\",\n",
      "    \"ns-1192.awsdns-21.org\",\n",
      "    \"ns-1782.awsdns-30.co.uk\",\n",
      "    \"ns-437.awsdns-54.com\",\n",
      "    \"ns-740.awsdns-28.net\"\n",
      "  ],\n",
      "  \"status\": [\n",
      "    \"clientTransferProhibited https://icann.org/epp#clientTransferProhibited\",\n",
      "    \"renewPeriod https://icann.org/epp#renewPeriod\"\n",
      "  ],\n",
      "  \"emails\": [\n",
      "    \"abuse@amazonaws.com\",\n",
      "    \"owner-1961310@toscrape.com.whoisprivacyservice.org\",\n",
      "    \"admin-1961310@toscrape.com.whoisprivacyservice.org\",\n",
      "    \"tech-1961310@toscrape.com.whoisprivacyservice.org\"\n",
      "  ],\n",
      "  \"dnssec\": \"unsigned\",\n",
      "  \"name\": \"On behalf of toscrape.com owner\",\n",
      "  \"org\": \"Whois Privacy Service\",\n",
      "  \"address\": \"P.O. Box 81226\",\n",
      "  \"city\": \"Seattle\",\n",
      "  \"state\": \"WA\",\n",
      "  \"zipcode\": \"98108-1226\",\n",
      "  \"country\": \"US\"\n",
      "}\n"
     ]
    }
   ],
   "source": [
    "print(whois.whois('https://books.toscrape.com'))"
   ]
  },
  {
   "cell_type": "markdown",
   "id": "5f5abc68",
   "metadata": {},
   "source": [
    "### Langkah 5: Inspect element"
   ]
  },
  {
   "cell_type": "markdown",
   "id": "96e9a33c",
   "metadata": {},
   "source": [
    "![inspect element](https://github.com/alfan-irsyadi/TugasOrbit/blob/main/WebScraping/ss_inspect_element.png?raw=true)"
   ]
  },
  {
   "cell_type": "markdown",
   "id": "uiLPYpr6Iadu",
   "metadata": {
    "id": "uiLPYpr6Iadu"
   },
   "source": [
    "## Nomor 2: Scrap https://books.toscrape.com/ untuk mencari info harga buku berdasarkan input user, dengan judul buku yang anda suka!"
   ]
  },
  {
   "cell_type": "code",
   "execution_count": 113,
   "id": "i77DKZ8Y5Bf_",
   "metadata": {
    "colab": {
     "base_uri": "https://localhost:8080/"
    },
    "id": "i77DKZ8Y5Bf_",
    "outputId": "d3c6dfd0-c7f4-4826-8778-0fd2744cbfc9"
   },
   "outputs": [
    {
     "name": "stdout",
     "output_type": "stream",
     "text": [
      "Selesai :D\n",
      "Page 50/50:  ⚫⚫⚫⚫⚫⚫⚫⚫⚫⚫ 100% \n",
      "Wall time: 1min 21s\n"
     ]
    }
   ],
   "source": [
    "%%time\n",
    "urllib3.disable_warnings() #disable annoying warnings\n",
    "\n",
    "judul = []\n",
    "harga = []\n",
    "rating = []\n",
    "# <p class=\"star-rating Two\">\n",
    "def to_number(kata):\n",
    "    if kata == 'One' : return 1\n",
    "    elif kata =='Two': return 2\n",
    "    elif kata =='Three': return 3\n",
    "    elif kata =='Four': return 4\n",
    "    else: return 5\n",
    "\n",
    "print('Sedang memproses....')\n",
    "for page in range(1,51):\n",
    "    response = urllib.request.urlopen(f'https://books.toscrape.com/catalogue/page-%d.html'%page)\n",
    "    html = response.read()\n",
    "    soup = BeautifulSoup(html, 'html.parser')\n",
    "    for i in soup.find_all(\"article\", class_=\"product_pod\"):\n",
    "        for j in i.find(\"h3\"):\n",
    "            judul.append(j.get('title'))\n",
    "    \n",
    "    text = html.decode()\n",
    "    rate = re.findall('<p class=\"star-rating (.*?)\">',text)\n",
    "    price = re.findall('<p class=\"price_color\">(.*?)</p>',text)\n",
    "    rating.append(rate)\n",
    "    harga.append(price)\n",
    "    clear_output(wait=True)\n",
    "    if(page != 50):\n",
    "        string = 'Sedang memproses'+'.'*(page%4)\n",
    "    else:\n",
    "        string = 'Selesai :D'\n",
    "    print(string)\n",
    "    print('Page %2d/50: '%page, '⚫'*int(np.floor(page/5))+\\\n",
    "          '⚪'*int(np.floor(10- page/5))+' '+str(page*2)+'%',end='')   \n",
    "    sleep(0.01)  \n",
    "     \n",
    "print(' ')\n",
    "harga = np.array(harga).flatten()\n",
    "rating = np.array(rating).flatten()\n",
    "\n",
    "df = pd.DataFrame({'Judul':judul, 'Harga':harga, 'Rating':rating})\n",
    "df.Rating = df.Rating.apply(lambda x: int(to_number(x)))\n",
    "df.Judul = df.Judul.apply(lambda x: x.lower())\n"
   ]
  },
  {
   "cell_type": "code",
   "execution_count": 114,
   "id": "0eda3994",
   "metadata": {},
   "outputs": [
    {
     "data": {
      "application/vnd.jupyter.widget-view+json": {
       "model_id": "de50299e944e4e61970ea8d4aec624bf",
       "version_major": 2,
       "version_minor": 0
      },
      "text/plain": [
       "interactive(children=(Text(value='frank', description='Judul'), Output()), _dom_classes=('widget-interact',))"
      ]
     },
     "metadata": {},
     "output_type": "display_data"
    }
   ],
   "source": [
    "@interact\n",
    "def show_title_contain(Judul='frank'):    \n",
    "    return df[df.Judul.str.contains(Judul.lower())]\n"
   ]
  },
  {
   "cell_type": "markdown",
   "id": "ffcea830",
   "metadata": {},
   "source": [
    "## Nomor 3: Tuliskan judul buku untuk rating >= 3 star"
   ]
  },
  {
   "cell_type": "code",
   "execution_count": 115,
   "id": "eab23797",
   "metadata": {},
   "outputs": [
    {
     "data": {
      "application/vnd.jupyter.widget-view+json": {
       "model_id": "46f207c787e64e4382a27d7ce21e247d",
       "version_major": 2,
       "version_minor": 0
      },
      "text/plain": [
       "interactive(children=(IntSlider(value=3, description='rate', max=5, min=1), Output()), _dom_classes=('widget-i…"
      ]
     },
     "metadata": {},
     "output_type": "display_data"
    }
   ],
   "source": [
    "@interact\n",
    "def show_rating_more_than(rate=(1,5,1)):    \n",
    "    return df[df.Rating >= rate]"
   ]
  },
  {
   "cell_type": "markdown",
   "id": "jrs6iAdBWoTM",
   "metadata": {
    "id": "jrs6iAdBWoTM"
   },
   "source": [
    "# Thank You!!"
   ]
  }
 ],
 "metadata": {
  "colab": {
   "collapsed_sections": [],
   "name": "M06_S2_Teknikal_WebScraping_Latihan.ipynb",
   "provenance": []
  },
  "kernelspec": {
   "display_name": "Python 3",
   "language": "python",
   "name": "python3"
  },
  "language_info": {
   "codemirror_mode": {
    "name": "ipython",
    "version": 3
   },
   "file_extension": ".py",
   "mimetype": "text/x-python",
   "name": "python",
   "nbconvert_exporter": "python",
   "pygments_lexer": "ipython3",
   "version": "3.8.8"
  }
 },
 "nbformat": 4,
 "nbformat_minor": 5
}
