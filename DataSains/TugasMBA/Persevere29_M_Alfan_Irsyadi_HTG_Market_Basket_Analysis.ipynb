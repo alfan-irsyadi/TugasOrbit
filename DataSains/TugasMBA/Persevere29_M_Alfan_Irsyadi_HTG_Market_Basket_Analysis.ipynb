{
  "cells": [
    {
      "cell_type": "markdown",
      "metadata": {
        "id": "yFkVo0GvdF5T"
      },
      "source": [
        "# **Market Basket Analysis**\n",
        "Market basket analysis adalah suatu metodologi untuk melakukan analisis buying habit konsumen dengan menemukan asosiasi antar beberapa item yang berbeda, yang diletakkan konsumen dalam shopping basket (keranjang belanja) yang dibeli pada suatu transaksi tertentu. Tujuan dari market basket analysis adalah untuk mengetahui produk-produk mana yang mungkin akan dibeli secara bersamaan"
      ]
    },
    {
      "cell_type": "markdown",
      "metadata": {
        "id": "fwO2ox36dZHF"
      },
      "source": [
        "## **Algoritma Apriori**\n",
        "\n",
        "Algoritma Apriori adalah suatu algoritma dasar yang diusulkan oleh Agrawal & Srikant pada tahun 1994 untuk penentuan frequent itemsets untuk aturan asosiasi boolean. Algoritma Apriori memberi kita sifat asosiatif dalam transaksi. Ini juga dikenal sebagai Aturan Asosiasi. Aturan asosiasi atau association rule adalah teknik untuk menemukan aturan asosiasi antara suatu kombinasi item. Terdapat 3 metrik untuk mengukur ketepatan aturan, yaitu :\n"
      ]
    },
    {
      "cell_type": "markdown",
      "metadata": {
        "id": "RO6yz03Im1i2"
      },
      "source": [
        "# **Market Basket Analysis**"
      ]
    },
    {
      "cell_type": "markdown",
      "metadata": {
        "id": "LWqZv3hwm_-7"
      },
      "source": [
        "## **1. Import Library**\n",
        "Pertama-tama mengimpor library yang akan kita gunakan untuk analisis eksplorasi data dan visualisasi data.\n"
      ]
    },
    {
      "cell_type": "code",
      "execution_count": 13,
      "metadata": {
        "id": "UuwanqKPYdPs"
      },
      "outputs": [],
      "source": [
        "import pandas as pd\n",
        "import numpy as np\n",
        "import seaborn as sns\n",
        "import matplotlib.pyplot as plt\n",
        "%matplotlib inline"
      ]
    },
    {
      "cell_type": "markdown",
      "metadata": {
        "id": "qlcuzs3XZ_K4"
      },
      "source": [
        "## **2. Import Dataset**\n"
      ]
    },
    {
      "cell_type": "code",
      "source": [
        "!curl -o dataset.csv https://raw.githubusercontent.com/alfan-irsyadi/TugasOrbit/main/DataSains/TugasMBA/Market_Basket_Optimisation.csv"
      ],
      "metadata": {
        "colab": {
          "base_uri": "https://localhost:8080/"
        },
        "id": "ugjwpZP8uE92",
        "outputId": "3852f257-c009-468d-ae4a-080d7399aaa4"
      },
      "execution_count": 14,
      "outputs": [
        {
          "output_type": "stream",
          "name": "stdout",
          "text": [
            "  % Total    % Received % Xferd  Average Speed   Time    Time     Time  Current\n",
            "                                 Dload  Upload   Total   Spent    Left  Speed\n",
            "100  295k  100  295k    0     0   790k      0 --:--:-- --:--:-- --:--:--  790k\n"
          ]
        }
      ]
    },
    {
      "cell_type": "code",
      "execution_count": 15,
      "metadata": {
        "colab": {
          "base_uri": "https://localhost:8080/"
        },
        "id": "CndlRKOFYrkU",
        "outputId": "7fc91673-b031-4ade-f6d9-4caa7765466f"
      },
      "outputs": [
        {
          "output_type": "stream",
          "name": "stdout",
          "text": [
            "              0          1           2                 3             4   \\\n",
            "0         shrimp    almonds     avocado    vegetables mix  green grapes   \n",
            "1        burgers  meatballs        eggs               NaN           NaN   \n",
            "2        chutney        NaN         NaN               NaN           NaN   \n",
            "3         turkey    avocado         NaN               NaN           NaN   \n",
            "4  mineral water       milk  energy bar  whole wheat rice     green tea   \n",
            "\n",
            "                 5     6               7             8             9   \\\n",
            "0  whole weat flour  yams  cottage cheese  energy drink  tomato juice   \n",
            "1               NaN   NaN             NaN           NaN           NaN   \n",
            "2               NaN   NaN             NaN           NaN           NaN   \n",
            "3               NaN   NaN             NaN           NaN           NaN   \n",
            "4               NaN   NaN             NaN           NaN           NaN   \n",
            "\n",
            "               10         11     12     13             14      15  \\\n",
            "0  low fat yogurt  green tea  honey  salad  mineral water  salmon   \n",
            "1             NaN        NaN    NaN    NaN            NaN     NaN   \n",
            "2             NaN        NaN    NaN    NaN            NaN     NaN   \n",
            "3             NaN        NaN    NaN    NaN            NaN     NaN   \n",
            "4             NaN        NaN    NaN    NaN            NaN     NaN   \n",
            "\n",
            "                  16               17       18         19  \n",
            "0  antioxydant juice  frozen smoothie  spinach  olive oil  \n",
            "1                NaN              NaN      NaN        NaN  \n",
            "2                NaN              NaN      NaN        NaN  \n",
            "3                NaN              NaN      NaN        NaN  \n",
            "4                NaN              NaN      NaN        NaN  \n"
          ]
        }
      ],
      "source": [
        "df = pd.read_csv('dataset.csv', header=None)\n",
        "print(df.head())"
      ]
    },
    {
      "cell_type": "markdown",
      "metadata": {
        "id": "0A0xY-Pbrxl8"
      },
      "source": [
        "Dari tabel diatas, menunjukkan jumlah data pada dataset terdapat 21293 baris dan 4 kolom"
      ]
    },
    {
      "cell_type": "markdown",
      "metadata": {
        "id": "IOJ1fl8ipEJn"
      },
      "source": [
        "## **3. Data Preparation**\n",
        "Pada tahapan ini kita akan memastikan tipe data yang digunakan sesuai, tidak ada nilai kosong "
      ]
    },
    {
      "cell_type": "code",
      "execution_count": 16,
      "metadata": {
        "colab": {
          "base_uri": "https://localhost:8080/"
        },
        "id": "EnD2MM1oYrge",
        "outputId": "142302dd-18bb-450d-f402-8b8353825b8b"
      },
      "outputs": [
        {
          "output_type": "stream",
          "name": "stdout",
          "text": [
            "Dataset Information: \n",
            "\n",
            "<class 'pandas.core.frame.DataFrame'>\n",
            "RangeIndex: 7501 entries, 0 to 7500\n",
            "Data columns (total 20 columns):\n",
            " #   Column  Non-Null Count  Dtype \n",
            "---  ------  --------------  ----- \n",
            " 0   0       7501 non-null   object\n",
            " 1   1       5747 non-null   object\n",
            " 2   2       4389 non-null   object\n",
            " 3   3       3345 non-null   object\n",
            " 4   4       2529 non-null   object\n",
            " 5   5       1864 non-null   object\n",
            " 6   6       1369 non-null   object\n",
            " 7   7       981 non-null    object\n",
            " 8   8       654 non-null    object\n",
            " 9   9       395 non-null    object\n",
            " 10  10      256 non-null    object\n",
            " 11  11      154 non-null    object\n",
            " 12  12      87 non-null     object\n",
            " 13  13      47 non-null     object\n",
            " 14  14      25 non-null     object\n",
            " 15  15      8 non-null      object\n",
            " 16  16      4 non-null      object\n",
            " 17  17      4 non-null      object\n",
            " 18  18      3 non-null      object\n",
            " 19  19      1 non-null      object\n",
            "dtypes: object(20)\n",
            "memory usage: 1.1+ MB\n",
            "None\n"
          ]
        }
      ],
      "source": [
        "# cek tipe data dari setiap kolom\n",
        "print('Dataset Information: \\n')\n",
        "print(df.info())"
      ]
    },
    {
      "cell_type": "markdown",
      "source": [
        "Terdapat nilai yang \"NA\" sehingga kita harus merubah nilai tersebut menjadi 0"
      ],
      "metadata": {
        "id": "lSmcPbDuvUX2"
      }
    },
    {
      "cell_type": "code",
      "source": [
        "## Data Cleaning step\n",
        "\n",
        "# replacing empty value with 0.\n",
        "df.fillna(0,inplace=True)"
      ],
      "metadata": {
        "id": "NJNuYGZ6vOci"
      },
      "execution_count": 17,
      "outputs": []
    },
    {
      "cell_type": "code",
      "source": [
        "print(df.head(10))"
      ],
      "metadata": {
        "colab": {
          "base_uri": "https://localhost:8080/"
        },
        "id": "u-YEqpi1vdc_",
        "outputId": "ca0c4867-bf63-4d77-89b6-f91d006b5c90"
      },
      "execution_count": 18,
      "outputs": [
        {
          "output_type": "stream",
          "name": "stdout",
          "text": [
            "                  0             1           2                 3   \\\n",
            "0             shrimp       almonds     avocado    vegetables mix   \n",
            "1            burgers     meatballs        eggs                 0   \n",
            "2            chutney             0           0                 0   \n",
            "3             turkey       avocado           0                 0   \n",
            "4      mineral water          milk  energy bar  whole wheat rice   \n",
            "5     low fat yogurt             0           0                 0   \n",
            "6  whole wheat pasta  french fries           0                 0   \n",
            "7               soup   light cream     shallot                 0   \n",
            "8  frozen vegetables     spaghetti   green tea                 0   \n",
            "9       french fries             0           0                 0   \n",
            "\n",
            "             4                 5     6               7             8   \\\n",
            "0  green grapes  whole weat flour  yams  cottage cheese  energy drink   \n",
            "1             0                 0     0               0             0   \n",
            "2             0                 0     0               0             0   \n",
            "3             0                 0     0               0             0   \n",
            "4     green tea                 0     0               0             0   \n",
            "5             0                 0     0               0             0   \n",
            "6             0                 0     0               0             0   \n",
            "7             0                 0     0               0             0   \n",
            "8             0                 0     0               0             0   \n",
            "9             0                 0     0               0             0   \n",
            "\n",
            "             9               10         11     12     13             14  \\\n",
            "0  tomato juice  low fat yogurt  green tea  honey  salad  mineral water   \n",
            "1             0               0          0      0      0              0   \n",
            "2             0               0          0      0      0              0   \n",
            "3             0               0          0      0      0              0   \n",
            "4             0               0          0      0      0              0   \n",
            "5             0               0          0      0      0              0   \n",
            "6             0               0          0      0      0              0   \n",
            "7             0               0          0      0      0              0   \n",
            "8             0               0          0      0      0              0   \n",
            "9             0               0          0      0      0              0   \n",
            "\n",
            "       15                 16               17       18         19  \n",
            "0  salmon  antioxydant juice  frozen smoothie  spinach  olive oil  \n",
            "1       0                  0                0        0          0  \n",
            "2       0                  0                0        0          0  \n",
            "3       0                  0                0        0          0  \n",
            "4       0                  0                0        0          0  \n",
            "5       0                  0                0        0          0  \n",
            "6       0                  0                0        0          0  \n",
            "7       0                  0                0        0          0  \n",
            "8       0                  0                0        0          0  \n",
            "9       0                  0                0        0          0  \n"
          ]
        }
      ]
    },
    {
      "cell_type": "markdown",
      "source": [
        "## 4. Visualisasi"
      ],
      "metadata": {
        "id": "q4aLP8aBBQ98"
      }
    },
    {
      "cell_type": "code",
      "execution_count": 19,
      "metadata": {
        "id": "ZUvFxXVYYrdn"
      },
      "outputs": [],
      "source": [
        "items = []\n",
        "transactions=[]\n",
        "for i in range(len(df)):\n",
        "  x_ = []\n",
        "  for j in range(df.shape[1]):\n",
        "    x = df.iloc[i,j]\n",
        "    \n",
        "    if(x != 0):\n",
        "      x_.append(x)\n",
        "      if x not in items:items.append(x)\n",
        "  transactions.append(x_)\n",
        "      "
      ]
    },
    {
      "cell_type": "code",
      "source": [
        "print(transactions[1]) ## lihat transaksi kedua"
      ],
      "metadata": {
        "colab": {
          "base_uri": "https://localhost:8080/"
        },
        "id": "yRXmnvmI8Vro",
        "outputId": "db22e600-4c34-4955-cb35-ed086d133ba8"
      },
      "execution_count": 20,
      "outputs": [
        {
          "output_type": "stream",
          "name": "stdout",
          "text": [
            "['burgers', 'meatballs', 'eggs']\n"
          ]
        }
      ]
    },
    {
      "cell_type": "code",
      "source": [
        "# Menghitung jumlah transaksi per item\n",
        "\n",
        "freq = []\n",
        "for i in items: freq.append(df[df==i].count().sum())\n",
        "item_count = pd.DataFrame({'Nama Item':items, \"Jumlah\":freq})\n",
        "most_sold = item_count.sort_values(by='Jumlah', ascending=False).head(20)\n",
        "print(most_sold)"
      ],
      "metadata": {
        "colab": {
          "base_uri": "https://localhost:8080/"
        },
        "id": "_El2Jiqk3b8s",
        "outputId": "79b445e2-cd1e-46bc-8c35-4219e05823a1"
      },
      "execution_count": 21,
      "outputs": [
        {
          "output_type": "stream",
          "name": "stdout",
          "text": [
            "            Nama Item  Jumlah\n",
            "14      mineral water    1788\n",
            "22               eggs    1348\n",
            "34          spaghetti    1306\n",
            "29       french fries    1282\n",
            "39          chocolate    1230\n",
            "11          green tea     991\n",
            "25               milk     972\n",
            "61        ground beef     737\n",
            "33  frozen vegetables     715\n",
            "55           pancakes     713\n",
            "20            burgers     654\n",
            "69               cake     608\n",
            "36            cookies     603\n",
            "62           escalope     595\n",
            "10     low fat yogurt     574\n",
            "0              shrimp     536\n",
            "43           tomatoes     513\n",
            "19          olive oil     494\n",
            "17    frozen smoothie     475\n",
            "24             turkey     469\n"
          ]
        }
      ]
    },
    {
      "cell_type": "markdown",
      "source": [
        "terlihat bahwa Mineral Water paling sering dibeli dengan jumlah 1788 transaksi diikuti dengan 'eggs' dengan jumlah 1348 transaksi"
      ],
      "metadata": {
        "id": "hI8MaO655fE6"
      }
    },
    {
      "cell_type": "code",
      "source": [
        "def to_persen(x): return x*100/(item_count['Jumlah'].sum())\n",
        "print(item_count['Jumlah'].apply(to_persen))"
      ],
      "metadata": {
        "colab": {
          "base_uri": "https://localhost:8080/"
        },
        "id": "qkik4-Uc_Ofz",
        "outputId": "6ad07572-a09d-47fc-9c34-024549d2258c"
      },
      "execution_count": 22,
      "outputs": [
        {
          "output_type": "stream",
          "name": "stdout",
          "text": [
            "0      1.825427\n",
            "1      0.521064\n",
            "2      0.851412\n",
            "3      0.657290\n",
            "4      0.231584\n",
            "         ...   \n",
            "115    0.149848\n",
            "116    0.112386\n",
            "117    0.003406\n",
            "118    0.023840\n",
            "119    0.017028\n",
            "Name: Jumlah, Length: 120, dtype: float64\n"
          ]
        }
      ]
    },
    {
      "cell_type": "markdown",
      "source": [
        "persentase untuk nilai tertinggi sekitar 1.82%"
      ],
      "metadata": {
        "id": "KLYMI-26BiaQ"
      }
    },
    {
      "cell_type": "code",
      "source": [
        "plt.figure(figsize=(20,6))\n",
        "\n",
        "most_sold.plot(kind='bar', xlabel=most_sold['Nama Item'])\n",
        "plt.title('Top 20 Sold')\n",
        "display(plt.show())"
      ],
      "metadata": {
        "colab": {
          "base_uri": "https://localhost:8080/",
          "height": 318
        },
        "id": "Ictf7IOA4fYD",
        "outputId": "901a85c4-e5ae-4c72-a7bf-d00e30da1ead"
      },
      "execution_count": 23,
      "outputs": [
        {
          "output_type": "display_data",
          "data": {
            "text/plain": [
              "<Figure size 1440x432 with 0 Axes>"
            ]
          },
          "metadata": {}
        },
        {
          "output_type": "display_data",
          "data": {
            "text/plain": [
              "<Figure size 432x288 with 1 Axes>"
            ],
            "image/png": "[encoded data removed]"
          },
          "metadata": {
            "needs_background": "light"
          }
        },
        {
          "output_type": "display_data",
          "data": {
            "text/plain": [
              "None"
            ]
          },
          "metadata": {}
        }
      ]
    },
    {
      "cell_type": "code",
      "source": [
        ""
      ],
      "metadata": {
        "id": "yXb-W5D2Bnux"
      },
      "execution_count": 23,
      "outputs": []
    },
    {
      "cell_type": "markdown",
      "source": [
        "## 5. Market Basket Analysis"
      ],
      "metadata": {
        "id": "x-YSnHgXEmAk"
      }
    },
    {
      "cell_type": "code",
      "source": [
        "from mlxtend.preprocessing import TransactionEncoder\n",
        "from mlxtend.frequent_patterns import association_rules, apriori"
      ],
      "metadata": {
        "id": "VfTkHrYm7Ibu"
      },
      "execution_count": 24,
      "outputs": []
    },
    {
      "cell_type": "code",
      "source": [
        "te = TransactionEncoder()\n",
        "te_ary = te.fit_transform(transactions)\n",
        "df2 = pd.DataFrame(te_ary, columns=te.columns_)\n",
        "frequent_itemsets = apriori(df2, min_support=0.01, use_colnames=True)\n",
        "rules = association_rules(frequent_itemsets, metric='lift', min_threshold=1.0)\n",
        "metrix = pd.DataFrame(rules)\n",
        "\n",
        "dfku = metrix[['antecedents','consequents', 'support', 'confidence', 'lift']]"
      ],
      "metadata": {
        "id": "gfZuF8zN7KYY"
      },
      "execution_count": 25,
      "outputs": []
    },
    {
      "cell_type": "code",
      "source": [
        "print(dfku.sort_values('lift', ascending=False).head(3))\n",
        "# metrix[['antecedents','consequents', 'support', 'confidence', 'lift']].sort_values('lift', ascending=False)"
      ],
      "metadata": {
        "colab": {
          "base_uri": "https://localhost:8080/"
        },
        "id": "fGjRGqmn9jk9",
        "outputId": "670fda42-7242-4f1c-bcb8-90afb7cbe8b8"
      },
      "execution_count": 26,
      "outputs": [
        {
          "output_type": "stream",
          "name": "stdout",
          "text": [
            "         antecedents                 consequents   support  confidence  \\\n",
            "214  (herb & pepper)               (ground beef)  0.015998    0.323450   \n",
            "215    (ground beef)             (herb & pepper)  0.015998    0.162822   \n",
            "385    (ground beef)  (mineral water, spaghetti)  0.017064    0.173677   \n",
            "\n",
            "         lift  \n",
            "214  3.291994  \n",
            "215  3.291994  \n",
            "385  2.907928  \n"
          ]
        }
      ]
    },
    {
      "cell_type": "markdown",
      "source": [
        "Terlihat bahwa kebanyakan pelanggan membeli \"Herb & Pepper\" lalu membeli \"ground beef\""
      ],
      "metadata": {
        "id": "aDUXnMfrB-7N"
      }
    },
    {
      "cell_type": "code",
      "source": [
        "dfku.sort_values('confidence', ascending=False).head(3)"
      ],
      "metadata": {
        "colab": {
          "base_uri": "https://localhost:8080/",
          "height": 143
        },
        "id": "7G88T7w89_hu",
        "outputId": "ea3042b7-c771-4365-e03f-1e9421d35e4e"
      },
      "execution_count": 27,
      "outputs": [
        {
          "output_type": "execute_result",
          "data": {
            "text/plain": [
              "                  antecedents      consequents   support  confidence      lift\n",
              "343       (eggs, ground beef)  (mineral water)  0.010132    0.506667  2.125563\n",
              "376       (milk, ground beef)  (mineral water)  0.011065    0.503030  2.110308\n",
              "319  (chocolate, ground beef)  (mineral water)  0.010932    0.473988  1.988472"
            ],
            "text/html": [
              "\n",
              "  <div id=\"df-c0c87808-faee-44aa-988f-f26e5e32ec46\">\n",
              "    <div class=\"colab-df-container\">\n",
              "      <div>\n",
              "<style scoped>\n",
              "    .dataframe tbody tr th:only-of-type {\n",
              "        vertical-align: middle;\n",
              "    }\n",
              "\n",
              "    .dataframe tbody tr th {\n",
              "        vertical-align: top;\n",
              "    }\n",
              "\n",
              "    .dataframe thead th {\n",
              "        text-align: right;\n",
              "    }\n",
              "</style>\n",
              "<table border=\"1\" class=\"dataframe\">\n",
              "  <thead>\n",
              "    <tr style=\"text-align: right;\">\n",
              "      <th></th>\n",
              "      <th>antecedents</th>\n",
              "      <th>consequents</th>\n",
              "      <th>support</th>\n",
              "      <th>confidence</th>\n",
              "      <th>lift</th>\n",
              "    </tr>\n",
              "  </thead>\n",
              "  <tbody>\n",
              "    <tr>\n",
              "      <th>343</th>\n",
              "      <td>(eggs, ground beef)</td>\n",
              "      <td>(mineral water)</td>\n",
              "      <td>0.010132</td>\n",
              "      <td>0.506667</td>\n",
              "      <td>2.125563</td>\n",
              "    </tr>\n",
              "    <tr>\n",
              "      <th>376</th>\n",
              "      <td>(milk, ground beef)</td>\n",
              "      <td>(mineral water)</td>\n",
              "      <td>0.011065</td>\n",
              "      <td>0.503030</td>\n",
              "      <td>2.110308</td>\n",
              "    </tr>\n",
              "    <tr>\n",
              "      <th>319</th>\n",
              "      <td>(chocolate, ground beef)</td>\n",
              "      <td>(mineral water)</td>\n",
              "      <td>0.010932</td>\n",
              "      <td>0.473988</td>\n",
              "      <td>1.988472</td>\n",
              "    </tr>\n",
              "  </tbody>\n",
              "</table>\n",
              "</div>\n",
              "      <button class=\"colab-df-convert\" onclick=\"convertToInteractive('df-c0c87808-faee-44aa-988f-f26e5e32ec46')\"\n",
              "              title=\"Convert this dataframe to an interactive table.\"\n",
              "              style=\"display:none;\">\n",
              "        \n",
              "  <svg xmlns=\"http://www.w3.org/2000/svg\" height=\"24px\"viewBox=\"0 0 24 24\"\n",
              "       width=\"24px\">\n",
              "    <path d=\"M0 0h24v24H0V0z\" fill=\"none\"/>\n",
              "    <path d=\"M18.56 5.44l.94 2.06.94-2.06 2.06-.94-2.06-.94-.94-2.06-.94 2.06-2.06.94zm-11 1L8.5 8.5l.94-2.06 2.06-.94-2.06-.94L8.5 2.5l-.94 2.06-2.06.94zm10 10l.94 2.06.94-2.06 2.06-.94-2.06-.94-.94-2.06-.94 2.06-2.06.94z\"/><path d=\"M17.41 7.96l-1.37-1.37c-.4-.4-.92-.59-1.43-.59-.52 0-1.04.2-1.43.59L10.3 9.45l-7.72 7.72c-.78.78-.78 2.05 0 2.83L4 21.41c.39.39.9.59 1.41.59.51 0 1.02-.2 1.41-.59l7.78-7.78 2.81-2.81c.8-.78.8-2.07 0-2.86zM5.41 20L4 18.59l7.72-7.72 1.47 1.35L5.41 20z\"/>\n",
              "  </svg>\n",
              "      </button>\n",
              "      \n",
              "  <style>\n",
              "    .colab-df-container {\n",
              "      display:flex;\n",
              "      flex-wrap:wrap;\n",
              "      gap: 12px;\n",
              "    }\n",
              "\n",
              "    .colab-df-convert {\n",
              "      background-color: #E8F0FE;\n",
              "      border: none;\n",
              "      border-radius: 50%;\n",
              "      cursor: pointer;\n",
              "      display: none;\n",
              "      fill: #1967D2;\n",
              "      height: 32px;\n",
              "      padding: 0 0 0 0;\n",
              "      width: 32px;\n",
              "    }\n",
              "\n",
              "    .colab-df-convert:hover {\n",
              "      background-color: #E2EBFA;\n",
              "      box-shadow: 0px 1px 2px rgba(60, 64, 67, 0.3), 0px 1px 3px 1px rgba(60, 64, 67, 0.15);\n",
              "      fill: #174EA6;\n",
              "    }\n",
              "\n",
              "    [theme=dark] .colab-df-convert {\n",
              "      background-color: #3B4455;\n",
              "      fill: #D2E3FC;\n",
              "    }\n",
              "\n",
              "    [theme=dark] .colab-df-convert:hover {\n",
              "      background-color: #434B5C;\n",
              "      box-shadow: 0px 1px 3px 1px rgba(0, 0, 0, 0.15);\n",
              "      filter: drop-shadow(0px 1px 2px rgba(0, 0, 0, 0.3));\n",
              "      fill: #FFFFFF;\n",
              "    }\n",
              "  </style>\n",
              "\n",
              "      <script>\n",
              "        const buttonEl =\n",
              "          document.querySelector('#df-c0c87808-faee-44aa-988f-f26e5e32ec46 button.colab-df-convert');\n",
              "        buttonEl.style.display =\n",
              "          google.colab.kernel.accessAllowed ? 'block' : 'none';\n",
              "\n",
              "        async function convertToInteractive(key) {\n",
              "          const element = document.querySelector('#df-c0c87808-faee-44aa-988f-f26e5e32ec46');\n",
              "          const dataTable =\n",
              "            await google.colab.kernel.invokeFunction('convertToInteractive',\n",
              "                                                     [key], {});\n",
              "          if (!dataTable) return;\n",
              "\n",
              "          const docLinkHtml = 'Like what you see? Visit the ' +\n",
              "            '<a target=\"_blank\" href=https://colab.research.google.com/notebooks/data_table.ipynb>data table notebook</a>'\n",
              "            + ' to learn more about interactive tables.';\n",
              "          element.innerHTML = '';\n",
              "          dataTable['output_type'] = 'display_data';\n",
              "          await google.colab.output.renderOutput(dataTable, element);\n",
              "          const docLink = document.createElement('div');\n",
              "          docLink.innerHTML = docLinkHtml;\n",
              "          element.appendChild(docLink);\n",
              "        }\n",
              "      </script>\n",
              "    </div>\n",
              "  </div>\n",
              "  "
            ]
          },
          "metadata": {},
          "execution_count": 27
        }
      ]
    },
    {
      "cell_type": "code",
      "source": [
        "dfku.sort_values('support', ascending=False).head(3)"
      ],
      "metadata": {
        "colab": {
          "base_uri": "https://localhost:8080/",
          "height": 143
        },
        "id": "fodK1TeW-aAN",
        "outputId": "3c183436-d9e1-472b-ffea-25158b168ea4"
      },
      "execution_count": 28,
      "outputs": [
        {
          "output_type": "execute_result",
          "data": {
            "text/plain": [
              "         antecedents      consequents   support  confidence      lift\n",
              "274  (mineral water)      (spaghetti)  0.059725    0.250559  1.439085\n",
              "275      (spaghetti)  (mineral water)  0.059725    0.343032  1.439085\n",
              "84       (chocolate)  (mineral water)  0.052660    0.321400  1.348332"
            ],
            "text/html": [
              "\n",
              "  <div id=\"df-ccb3d777-0174-4fda-86b1-5a651c7cf9d9\">\n",
              "    <div class=\"colab-df-container\">\n",
              "      <div>\n",
              "<style scoped>\n",
              "    .dataframe tbody tr th:only-of-type {\n",
              "        vertical-align: middle;\n",
              "    }\n",
              "\n",
              "    .dataframe tbody tr th {\n",
              "        vertical-align: top;\n",
              "    }\n",
              "\n",
              "    .dataframe thead th {\n",
              "        text-align: right;\n",
              "    }\n",
              "</style>\n",
              "<table border=\"1\" class=\"dataframe\">\n",
              "  <thead>\n",
              "    <tr style=\"text-align: right;\">\n",
              "      <th></th>\n",
              "      <th>antecedents</th>\n",
              "      <th>consequents</th>\n",
              "      <th>support</th>\n",
              "      <th>confidence</th>\n",
              "      <th>lift</th>\n",
              "    </tr>\n",
              "  </thead>\n",
              "  <tbody>\n",
              "    <tr>\n",
              "      <th>274</th>\n",
              "      <td>(mineral water)</td>\n",
              "      <td>(spaghetti)</td>\n",
              "      <td>0.059725</td>\n",
              "      <td>0.250559</td>\n",
              "      <td>1.439085</td>\n",
              "    </tr>\n",
              "    <tr>\n",
              "      <th>275</th>\n",
              "      <td>(spaghetti)</td>\n",
              "      <td>(mineral water)</td>\n",
              "      <td>0.059725</td>\n",
              "      <td>0.343032</td>\n",
              "      <td>1.439085</td>\n",
              "    </tr>\n",
              "    <tr>\n",
              "      <th>84</th>\n",
              "      <td>(chocolate)</td>\n",
              "      <td>(mineral water)</td>\n",
              "      <td>0.052660</td>\n",
              "      <td>0.321400</td>\n",
              "      <td>1.348332</td>\n",
              "    </tr>\n",
              "  </tbody>\n",
              "</table>\n",
              "</div>\n",
              "      <button class=\"colab-df-convert\" onclick=\"convertToInteractive('df-ccb3d777-0174-4fda-86b1-5a651c7cf9d9')\"\n",
              "              title=\"Convert this dataframe to an interactive table.\"\n",
              "              style=\"display:none;\">\n",
              "        \n",
              "  <svg xmlns=\"http://www.w3.org/2000/svg\" height=\"24px\"viewBox=\"0 0 24 24\"\n",
              "       width=\"24px\">\n",
              "    <path d=\"M0 0h24v24H0V0z\" fill=\"none\"/>\n",
              "    <path d=\"M18.56 5.44l.94 2.06.94-2.06 2.06-.94-2.06-.94-.94-2.06-.94 2.06-2.06.94zm-11 1L8.5 8.5l.94-2.06 2.06-.94-2.06-.94L8.5 2.5l-.94 2.06-2.06.94zm10 10l.94 2.06.94-2.06 2.06-.94-2.06-.94-.94-2.06-.94 2.06-2.06.94z\"/><path d=\"M17.41 7.96l-1.37-1.37c-.4-.4-.92-.59-1.43-.59-.52 0-1.04.2-1.43.59L10.3 9.45l-7.72 7.72c-.78.78-.78 2.05 0 2.83L4 21.41c.39.39.9.59 1.41.59.51 0 1.02-.2 1.41-.59l7.78-7.78 2.81-2.81c.8-.78.8-2.07 0-2.86zM5.41 20L4 18.59l7.72-7.72 1.47 1.35L5.41 20z\"/>\n",
              "  </svg>\n",
              "      </button>\n",
              "      \n",
              "  <style>\n",
              "    .colab-df-container {\n",
              "      display:flex;\n",
              "      flex-wrap:wrap;\n",
              "      gap: 12px;\n",
              "    }\n",
              "\n",
              "    .colab-df-convert {\n",
              "      background-color: #E8F0FE;\n",
              "      border: none;\n",
              "      border-radius: 50%;\n",
              "      cursor: pointer;\n",
              "      display: none;\n",
              "      fill: #1967D2;\n",
              "      height: 32px;\n",
              "      padding: 0 0 0 0;\n",
              "      width: 32px;\n",
              "    }\n",
              "\n",
              "    .colab-df-convert:hover {\n",
              "      background-color: #E2EBFA;\n",
              "      box-shadow: 0px 1px 2px rgba(60, 64, 67, 0.3), 0px 1px 3px 1px rgba(60, 64, 67, 0.15);\n",
              "      fill: #174EA6;\n",
              "    }\n",
              "\n",
              "    [theme=dark] .colab-df-convert {\n",
              "      background-color: #3B4455;\n",
              "      fill: #D2E3FC;\n",
              "    }\n",
              "\n",
              "    [theme=dark] .colab-df-convert:hover {\n",
              "      background-color: #434B5C;\n",
              "      box-shadow: 0px 1px 3px 1px rgba(0, 0, 0, 0.15);\n",
              "      filter: drop-shadow(0px 1px 2px rgba(0, 0, 0, 0.3));\n",
              "      fill: #FFFFFF;\n",
              "    }\n",
              "  </style>\n",
              "\n",
              "      <script>\n",
              "        const buttonEl =\n",
              "          document.querySelector('#df-ccb3d777-0174-4fda-86b1-5a651c7cf9d9 button.colab-df-convert');\n",
              "        buttonEl.style.display =\n",
              "          google.colab.kernel.accessAllowed ? 'block' : 'none';\n",
              "\n",
              "        async function convertToInteractive(key) {\n",
              "          const element = document.querySelector('#df-ccb3d777-0174-4fda-86b1-5a651c7cf9d9');\n",
              "          const dataTable =\n",
              "            await google.colab.kernel.invokeFunction('convertToInteractive',\n",
              "                                                     [key], {});\n",
              "          if (!dataTable) return;\n",
              "\n",
              "          const docLinkHtml = 'Like what you see? Visit the ' +\n",
              "            '<a target=\"_blank\" href=https://colab.research.google.com/notebooks/data_table.ipynb>data table notebook</a>'\n",
              "            + ' to learn more about interactive tables.';\n",
              "          element.innerHTML = '';\n",
              "          dataTable['output_type'] = 'display_data';\n",
              "          await google.colab.output.renderOutput(dataTable, element);\n",
              "          const docLink = document.createElement('div');\n",
              "          docLink.innerHTML = docLinkHtml;\n",
              "          element.appendChild(docLink);\n",
              "        }\n",
              "      </script>\n",
              "    </div>\n",
              "  </div>\n",
              "  "
            ]
          },
          "metadata": {},
          "execution_count": 28
        }
      ]
    },
    {
      "cell_type": "markdown",
      "metadata": {
        "id": "fbgS4hYzzLAA"
      },
      "source": [
        "# **Kesimpulan**\n",
        "\n",
        "Dapat dilihat dari analisis diatas, di mana semakin tinggi nilai peningkatan, semakin kuat korelasi antar item.\n",
        "(format: antecedant(s) -> consequent):\n",
        "\n",
        "\n",
        "> (Herb + pepper) -> ground beef\n",
        "\n",
        "> ground beef -> (herb + pepper)\n",
        "\n",
        "> ground beef -> (spagehetti + mineral water)\n",
        "\n",
        "\n",
        "Bisnis selalu mencari cara untuk mengoptimalkan pengaturan mereka dan meningkatkan penjualan mereka. Toko roti tidak berbeda, dan analisis semacam ini bisa dilakukan untuk semua jenis toko ritel atau pasar juga. Karena kita sekarang mengetahui korelasi antara item dan kepentingan bersama pelanggan, bisnis dapat membuat keputusan berdasarkan temuan ini. Misalnya, Pasar ini meletakkan herb dan pepper disebelah ground beef"
      ]
    },
    {
      "cell_type": "code",
      "source": [
        "!jupyter nbconvert --to pdf \"Persevere29_M Alfan Irsyadi HTG_Market Basket Analysis.ipynb\""
      ],
      "metadata": {
        "id": "Kf3tWNtyEjNy",
        "colab": {
          "base_uri": "https://localhost:8080/"
        },
        "outputId": "3e7c4458-aa57-4fa5-e9ad-b4c9d88b059a"
      },
      "execution_count": 32,
      "outputs": [
        {
          "output_type": "stream",
          "name": "stdout",
          "text": [
            "[NbConvertApp] Converting notebook Persevere29_M Alfan Irsyadi HTG_Market Basket Analysis.ipynb to pdf\n",
            "[NbConvertApp] Support files will be in Persevere29_M Alfan Irsyadi HTG_Market Basket Analysis_files/\n",
            "[NbConvertApp] Making directory ./Persevere29_M Alfan Irsyadi HTG_Market Basket Analysis_files\n",
            "[NbConvertApp] Writing 66936 bytes to ./notebook.tex\n",
            "[NbConvertApp] Building PDF\n",
            "[NbConvertApp] Running xelatex 3 times: ['xelatex', './notebook.tex', '-quiet']\n",
            "[NbConvertApp] Running bibtex 1 time: ['bibtex', './notebook']\n",
            "[NbConvertApp] WARNING | bibtex had problems, most likely because there were no citations\n",
            "[NbConvertApp] PDF successfully created\n",
            "[NbConvertApp] Writing 80656 bytes to Persevere29_M Alfan Irsyadi HTG_Market Basket Analysis.pdf\n"
          ]
        }
      ]
    }
  ],
  "metadata": {
    "colab": {
      "collapsed_sections": [
        "fwO2ox36dZHF"
      ],
      "name": "Persevere29_M Alfan Irsyadi HTG_Market Basket Analysis.ipynb",
      "provenance": []
    },
    "kernelspec": {
      "display_name": "Python 3",
      "language": "python",
      "name": "python3"
    },
    "language_info": {
      "codemirror_mode": {
        "name": "ipython",
        "version": 3
      },
      "file_extension": ".py",
      "mimetype": "text/x-python",
      "name": "python",
      "nbconvert_exporter": "python",
      "pygments_lexer": "ipython3",
      "version": "3.8.8"
    }
  },
  "nbformat": 4,
  "nbformat_minor": 0
}